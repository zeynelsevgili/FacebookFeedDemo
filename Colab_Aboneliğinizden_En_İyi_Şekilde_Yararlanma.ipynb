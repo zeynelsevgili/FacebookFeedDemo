{
  "cells": [
    {
      "cell_type": "markdown",
      "metadata": {
        "id": "view-in-github",
        "colab_type": "text"
      },
      "source": [
        "<a href=\"https://colab.research.google.com/github/zeynelsevgili/FacebookFeedDemo/blob/master/Colab_Aboneli%C4%9Finizden_En_%C4%B0yi_%C5%9Eekilde_Yararlanma.ipynb\" target=\"_parent\"><img src=\"https://colab.research.google.com/assets/colab-badge.svg\" alt=\"Open In Colab\"/></a>"
      ]
    },
    {
      "cell_type": "markdown",
      "metadata": {
        "id": "SKQ4bH7qMGrA"
      },
      "source": [
        "# Colab Aboneliğinizden En İyi Şekilde Yararlanma\n",
        "\n"
      ]
    },
    {
      "cell_type": "markdown",
      "metadata": {
        "id": "QMMqmdiYMkvi"
      },
      "source": [
        "## Daha hızlı GPU'lar\n",
        "\n",
        "<p>Colab'in ücretli planlarından birini satın alan kullanıcılar premium GPU'lara erişebilirler. Not defterinizin GPU ayarlarını menüdeki <code>Çalışma zamanı &gt; Çalışma zamanı türünü değiştir</code> bölümünden Premium hızlandırıcı'yı etkinleştirecek şekilde yükseltebilirsiniz. Kullanılabilirlik durumuna bağlı olarak, premium GPU seçerseniz V100 veya A100 Nvidia GPU'ya erişim kazanabilirsiniz.</p>\n",
        "<p>Colab'in ücretsiz sürümü, kota kısıtlamalarına ve kullanılabilirlik durumuna bağlı olarak Nvidia'nın T4 GPU'larına erişim imkanı sunar.</p>\n",
        "\n",
        "İstediğiniz zaman aşağıdaki hücreyi yürüterek size hangi GPU'nun atandığını görebilirsiniz. Aşağıdaki kod hücresi çalıştırıldığında sonuç olarak \"Not connected to a GPU\" &#40;GPU'ya bağlanılamadı&#41; mesajı görüntüleniyorsa menüde <code>Çalışma zamanı &gt; Çalışma zamanı türünü değiştir</code> bölümünden çalışma zamanını değiştirerek bir GPU hızlandırıcıyı etkinleştirebilir, sonra da hücreyi yeniden çalıştırabilirsiniz."
      ]
    },
    {
      "cell_type": "code",
      "execution_count": null,
      "metadata": {
        "id": "23TOba33L4qf"
      },
      "outputs": [],
      "source": [
        "gpu_info = !nvidia-smi\n",
        "gpu_info = '\\n'.join(gpu_info)\n",
        "if gpu_info.find('failed') >= 0:\n",
        "  print('Not connected to a GPU')\n",
        "else:\n",
        "  print(gpu_info)"
      ]
    },
    {
      "cell_type": "markdown",
      "metadata": {
        "id": "Sa-IrJS1aRVJ"
      },
      "source": [
        "Not defterinizle bir GPU kullanmak için <code>Çalışma zamanı &gt; Çalışma zamanı türünü değiştir</code> menüsünü seçin, sonra da donanım hızlandırıcı açılır menüsünü GPU'ya ayarlayın."
      ]
    },
    {
      "cell_type": "markdown",
      "metadata": {
        "id": "65MSuHKqNeBZ"
      },
      "source": [
        "## Daha yüksek bellek kapasitesi\n",
        "\n",
        "Colab'in ücretli planlarından birini satın alan kullanıcılar, kullanılabilir olduğunda yüksek bellek kapasiteli sanal makinelere erişebilirler.\n",
        "Aşağıdaki kod hücresini çalıştırarak istediğiniz zaman ne kadar belleğinizin kaldığını görebilirsiniz. Aşağıdaki kod hücresi çalıştırıldığında sonuç olarak \"Not using a high-RAM runtime\" &#40;Yüksek RAM'li çalışma zamanı kullanılmıyor&#41; mesajı görüntüleniyorsa menüde <code>Çalışma zamanı &gt; Çalışma zamanı türünü değiştir</code> bölümünden yüksek RAM'li bir çalışma zamanı etkinleştirebilirsiniz. Ardından, Çalışma zamanı şekli açılır listesinden Yüksek RAM'i seçin. Ardından, kod hücresini yeniden çalıştırın."
      ]
    },
    {
      "cell_type": "code",
      "execution_count": null,
      "metadata": {
        "id": "V1G82GuO-tez"
      },
      "outputs": [],
      "source": [
        "from psutil import virtual_memory\n",
        "ram_gb = virtual_memory().total / 1e9\n",
        "print('Your runtime has {:.1f} gigabytes of available RAM\\n'.format(ram_gb))\n",
        "\n",
        "if ram_gb < 20:\n",
        "  print('Not using a high-RAM runtime')\n",
        "else:\n",
        "  print('You are using a high-RAM runtime!')"
      ]
    },
    {
      "cell_type": "markdown",
      "metadata": {
        "id": "BJW8Qi-pPpep"
      },
      "source": [
        "## Daha uzun çalışma zamanları\n",
        "\n",
        "Tüm Colab çalışma zamanları belirli bir süre sonra sıfırlanır &#40;çalışma zamanı tarafından kod yürütülmüyorsa bu süre kısalır&#41;. Colab Pro ve Pro+ kullanıcılarının çalışma zamanı, Colab'i ücretsiz kullananlara göre daha uzundur.\n",
        "\n",
        "## Arka planda yürütme\n",
        "\n",
        "Colab Pro+ kullanıcılarının arka planda yürütme işlevine erişimi vardır. Burada not defterleri, tarayıcı sekmesi kapatıldıktan sonra bile çalışmaya devam eder. Kullanılabilir işlem birimleriniz olduğu sürece bu işlev, Pro+ çalışma zamanlarında her zaman etkindir.\n"
      ]
    },
    {
      "cell_type": "markdown",
      "metadata": {
        "id": "uLlTRcMM_h0k"
      },
      "source": [
        "## Colab Pro'da kaynak sınırlarını gevşetme\n",
        "\n",
        "Colab'de kaynaklarınız sınırsız değildir. Colab'den en iyi şekilde faydalanmak için ihtiyacınız olmayan kaynakları kullanmaktan kaçının. Örneğin, sadece gerektiğinde GPU kullanın ve işiniz bittiğinde Colab sekmelerini kapatın.\n",
        "\n",
        "Sınırlamalarla karşılaşırsanız Pay As You Go ile daha fazla işlem birimi satın alarak bu sınırlamaları gevşetebilirsiniz. Herkes <a href=\"https://colab.research.google.com/signup\">Pay As You Go</a> ile işlem birimi satın alabilir. Abonelik gerekmez."
      ]
    },
    {
      "cell_type": "markdown",
      "metadata": {
        "id": "mm8FzEidvPs6"
      },
      "source": [
        "## Görüşlerinizi bildirin\n",
        "\n",
        "<p>Geri bildiriminiz varsa lütfen bize iletin. Geri bildirim göndermenin en iyi yolu, Yardım &gt; \"Geri bildirim gönder...\" menüsünü kullanmaktır. Colab Pro'da kullanım sınırıyla karşılaşırsanız Pro+'a abone olmayı düşünebilirsiniz.</p>\n",
        "<p>Colab Pro, Pro+ ya da Pay As You Go ile ilgili faturalandırma &#40;ödemeler&#41; konusunda hatalarla veya başka sorunlarla karşılaşırsanız lütfen <a href=\"mailto:colab-billing@google.com\">colab-billing@google.com</a> adresine e-posta gönderin.</p>"
      ]
    },
    {
      "cell_type": "markdown",
      "metadata": {
        "id": "qB3bdLe8jkAa"
      },
      "source": [
        "## Diğer Kaynaklar\n",
        "\n",
        "### Colab'de Not Defterleriyle Çalışma\n",
        "- [Colaboratory'ye Genel Bakış](/notebooks/basic_features_overview.ipynb)\n",
        "- [Markdown rehberi](/notebooks/markdown_guide.ipynb)\n",
        "- [Kitaplıkları içe aktarma ve bağımlıları yükleme](/notebooks/snippets/importing_libraries.ipynb)\n",
        "- [GitHub'da not defteri kaydetme ve yükleme](https://colab.research.google.com/github/googlecolab/colabtools/blob/master/notebooks/colab-github-demo.ipynb)\n",
        "- [Etkileşimli formlar](/notebooks/forms.ipynb)\n",
        "- [Etkileşimli widget'lar](/notebooks/widgets.ipynb)\n",
        "\n",
        "<a name=\"working-with-data\"></a>\n",
        "### Verilerle Çalışma\n",
        "- [Veri yükleme: Drive, E-Tablolar ve Google Cloud Storage](/notebooks/io.ipynb)\n",
        "- [Grafikler: Veri görselleştirme](/notebooks/charts.ipynb)\n",
        "- [BigQuery'yi kullanmaya başlama](/notebooks/bigquery.ipynb)\n",
        "\n",
        "### Makine Öğrenimi Hızlandırılmış Kursu\n",
        "Google'ın online Makine Öğrenimi kursundan birkaç not defterini burada bulabilirsiniz. Daha fazlası için <a href=\"https://developers.google.com/machine-learning/crash-course/\">tam kurs web sitesine</a> bakın.\n",
        "- [Pandas DataFrame'e giriş](https://colab.research.google.com/github/google/eng-edu/blob/main/ml/cc/exercises/pandas_dataframe_ultraquick_tutorial.ipynb)\n",
        "- [Sentetik veriler kullanarak tf.keras ile doğrusal regresyon](https://colab.research.google.com/github/google/eng-edu/blob/main/ml/cc/exercises/linear_regression_with_synthetic_data.ipynb)\n",
        "\n",
        "\n",
        "<a name=\"using-accelerated-hardware\"></a>\n",
        "### Hızlandırılmış Donanım Kullanma\n",
        "- [GPU'lar ile TensorFlow](/notebooks/gpu.ipynb)\n",
        "- [TPU'lar ile TensorFlow](/notebooks/tpu.ipynb)"
      ]
    },
    {
      "cell_type": "markdown",
      "metadata": {
        "id": "RFm2S0Gijqo8"
      },
      "source": [
        "<a name=\"machine-learning-examples\"></a>\n",
        "\n",
        "## Makine Öğrenimi Örnekleri\n",
        "\n",
        "Colaboratory'nin mümkün kıldığı etkileşimli makine öğrenimi analizlerinin uçtan uca örneklerini görmek için, <a href=\"https://tfhub.dev\">TensorFlow Hub</a>'daki modelleri kullanan bu eğiticilere bakın.\n",
        "\n",
        "Öne çıkan birkaç örnek:\n",
        "\n",
        "- <a href=\"https://tensorflow.org/hub/tutorials/tf2_image_retraining\">Bir Resim Sınıflandırıcıyı Yeniden Eğitme</a>: Çiçekleri ayırt etmek için önceden eğitilmiş bir resim sınıflandırıcının üzerine bir Keras modeli inşa eder.\n",
        "- <a href=\"https://tensorflow.org/hub/tutorials/tf2_text_classification\">Metin Sınıflandırma</a>: IMDB'deki film yorumlarını <em>olumlu</em> veya <em>olumsuz</em> olarak sınıflandırır.\n",
        "- <a href=\"https://tensorflow.org/hub/tutorials/tf2_arbitrary_image_stylization\">Stil Aktarımı</a>: Resimler arasında stil aktarımı yapmak için derin öğrenmeyi kullanır.\n",
        "- <a href=\"https://tensorflow.org/hub/tutorials/retrieval_with_tf_hub_universal_encoder_qa\">Çok Dilli Evrensel Cümle Kodlayıcı Soru-Cevap</a>: SQuAD veri kümesinden soruları cevaplamak için bir makine öğrenimi modeli kullanır.\n",
        "- <a href=\"https://tensorflow.org/hub/tutorials/tweening_conv3d\">Video İnterpolasyonu</a>: Bir videonun ilk ve son karesi arasında ne olduğunu tahmin eder.\n"
      ]
    }
  ],
  "metadata": {
    "colab": {
      "name": "Colab Aboneliğinizden En İyi Şekilde Yararlanma",
      "provenance": [],
      "include_colab_link": true
    },
    "kernelspec": {
      "display_name": "Python 3",
      "name": "python3"
    }
  },
  "nbformat": 4,
  "nbformat_minor": 0
}